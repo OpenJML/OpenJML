{
 "cells": [
  {
   "cell_type": "code",
   "execution_count": 1,
   "metadata": {
    "collapsed": true
   },
   "outputs": [],
   "source": [
    "import matplotlib.pyplot as plt\n",
    "import matplotlib as mpl\n",
    "import numpy as np\n",
    "import pandas as pd \n",
    "import os\n",
    "import subprocess\n",
    "import sys \n",
    "from scipy.stats import linregress\n",
    "from lib import time_vs_cfg_depth, cfg_depth_vs_loc, pct_reduction_of_pipeline_steps, red_blue, inference_breakdown_pie, percent_reduction_pie\n",
    "\n"
   ]
  },
  {
   "cell_type": "code",
   "execution_count": 3,
   "metadata": {},
   "outputs": [],
   "source": [
    "evals  = [\"JSON-Java\", \"Commons-CSV\", \"Commons-CLI\", \"Commons-Codec\", \"Commons-IO\", \"Commons-Email\", \"JUnit4\", \"Combined\"] #sys.argv[2:]\n",
    "run_id = \"2pac-2017-04-21\"            #sys.argv[1]\n",
    "\n",
    "\n"
   ]
  },
  {
   "cell_type": "code",
   "execution_count": 4,
   "metadata": {},
   "outputs": [
    {
     "name": "stdout",
     "output_type": "stream",
     "text": [
      "Processing: JSON-Java\n",
      "Processing: Commons-CSV\n",
      "Processing: Commons-CLI\n",
      "Processing: Commons-Codec\n"
     ]
    },
    {
     "name": "stderr",
     "output_type": "stream",
     "text": [
      "/Users/jls/Applications/conda/envs/strongarm/lib/python3.6/site-packages/matplotlib/pyplot.py:524: RuntimeWarning: More than 20 figures have been opened. Figures created through the pyplot interface (`matplotlib.pyplot.figure`) are retained until explicitly closed and may consume too much memory. (To control this warning, see the rcParam `figure.max_open_warning`).\n",
      "  max_open_warning, RuntimeWarning)\n"
     ]
    },
    {
     "name": "stdout",
     "output_type": "stream",
     "text": [
      "Processing: Commons-IO\n",
      "Processing: Commons-Email\n",
      "Processing: JUnit4\n",
      "Processing: Combined\n"
     ]
    }
   ],
   "source": [
    "\n",
    "data_dir     = \"runs/{0}/\".format(run_id)\n",
    "\n",
    "\n",
    "for eval_name in evals:\n",
    "    print(\"Processing: \" + eval_name)\n",
    "\n",
    "    figures_path = \"runs/{0}/figures/{1}\".format(run_id, eval_name)\n",
    "\n",
    "    plt.rcParams['figure.figsize'] = (15, 10)\n",
    "\n",
    "\n",
    "    summary = \"{0}strongarm-summary-{1}.csv\".format(data_dir, eval_name)\n",
    "    pipeline = \"{0}strongarm-pipeline-steps-{1}.csv\".format(data_dir, eval_name)\n",
    "\n",
    "    #%%\n",
    "    # graph stuff\n",
    "    time_vs_cfg_depth.graph(summary, pipeline, eval_name, figures_path)\n",
    "    cfg_depth_vs_loc.graph(summary, pipeline, eval_name, figures_path)\n",
    "    pct_reduction_of_pipeline_steps.graph(summary, pipeline, eval_name, figures_path)\n",
    "    red_blue.graph(summary, pipeline, eval_name, figures_path)\n",
    "    inference_breakdown_pie.graph(summary, pipeline, eval_name, figures_path)\n",
    "    percent_reduction_pie.graph(summary, pipeline, eval_name, figures_path)\n",
    "\n"
   ]
  },
  {
   "cell_type": "code",
   "execution_count": null,
   "metadata": {},
   "outputs": [],
   "source": []
  },
  {
   "cell_type": "code",
   "execution_count": null,
   "metadata": {},
   "outputs": [],
   "source": []
  }
 ],
 "metadata": {
  "kernelspec": {
   "display_name": "Python 3",
   "language": "python",
   "name": "python3"
  },
  "language_info": {
   "codemirror_mode": {
    "name": "ipython",
    "version": 3
   },
   "file_extension": ".py",
   "mimetype": "text/x-python",
   "name": "python",
   "nbconvert_exporter": "python",
   "pygments_lexer": "ipython3",
   "version": "3.6.0"
  }
 },
 "nbformat": 4,
 "nbformat_minor": 2
}
